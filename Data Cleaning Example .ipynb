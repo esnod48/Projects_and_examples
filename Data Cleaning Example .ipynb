{
 "cells": [
  {
   "cell_type": "markdown",
   "id": "af22b46f",
   "metadata": {},
   "source": [
    "## Read the Class_Practice_data to R and Python, and denote it as d1"
   ]
  },
  {
   "cell_type": "markdown",
   "id": "ee4b526a",
   "metadata": {},
   "source": [
    "First I will load in some packages "
   ]
  },
  {
   "cell_type": "code",
   "execution_count": 3,
   "id": "30e57f37",
   "metadata": {},
   "outputs": [],
   "source": [
    "import pandas as pd \n",
    "import numpy as np \n",
    "import os "
   ]
  },
  {
   "cell_type": "markdown",
   "id": "f9609c37",
   "metadata": {},
   "source": [
    "Now, I will get my working directory"
   ]
  },
  {
   "cell_type": "code",
   "execution_count": 4,
   "id": "aa554cc7",
   "metadata": {},
   "outputs": [],
   "source": [
    "os.getcwd()\n",
    "os.chdir('C:/Users/esnod/OneDrive/Desktop/DS 435/')"
   ]
  },
  {
   "cell_type": "code",
   "execution_count": 5,
   "id": "d74a0984",
   "metadata": {},
   "outputs": [],
   "source": [
    "d1 = pd.read_csv(\"Class_Practice_Data (3).csv\")"
   ]
  },
  {
   "cell_type": "code",
   "execution_count": 6,
   "id": "563be9e7",
   "metadata": {},
   "outputs": [
    {
     "name": "stdout",
     "output_type": "stream",
     "text": [
      "           ID  RACE  INCOME        AGE  SMOKE         SBP        DBP  \\\n",
      "0       50000     1     6.0   9.350000    2.0  100.954414  70.470035   \n",
      "1       50000     1     6.0  10.346338    2.0   97.902141  99.908720   \n",
      "2       50000     1     6.0  11.282683    2.0  113.731914  72.775646   \n",
      "3       50000     1     6.0  12.336756    2.0  105.055861  72.134667   \n",
      "4       50000     1     6.0  13.388090    2.0  113.061983  87.739498   \n",
      "...       ...   ...     ...        ...    ...         ...        ...   \n",
      "20895  258090     2     9.0  10.781656    2.0  116.914078  47.107785   \n",
      "20896  258090     2     9.0  11.701574    2.0  131.337881  78.715074   \n",
      "20897  258090     2     9.0  12.678987    2.0  114.821992  56.015046   \n",
      "20898  258090     2     9.0  13.675565    2.0  115.467410  75.004645   \n",
      "20899  258090     2     9.0  16.646133    NaN         NaN        NaN   \n",
      "\n",
      "               HT         WT     WM  ...  ARMS     TC     TG    LDL   HDL  \\\n",
      "0      148.836360  39.265374    NaN  ...   1.0  144.0  101.0   85.0  43.0   \n",
      "1      152.306527  46.839810  60.00  ...   1.0    NaN    NaN    NaN   NaN   \n",
      "2      162.496207  49.663579  63.45  ...   1.0  134.0  116.0   74.0  42.0   \n",
      "3      163.232129  59.846505  63.25  ...   1.0    NaN    NaN    NaN   NaN   \n",
      "4      173.302667  64.118305  68.20  ...   1.0  122.0   64.0   61.0  51.0   \n",
      "...           ...        ...    ...  ...   ...    ...    ...    ...   ...   \n",
      "20895  149.655482  52.106959  72.75  ...   1.0    NaN    NaN    NaN   NaN   \n",
      "20896  154.928702  52.161658  72.10  ...   2.0  185.0  154.0  124.0  37.0   \n",
      "20897  160.995058  58.696935  68.10  ...   1.0    NaN    NaN    NaN   NaN   \n",
      "20898  166.782871  60.067092  69.40  ...   1.0    NaN    NaN    NaN   NaN   \n",
      "20899         NaN        NaN    NaN  ...   2.0    NaN    NaN    NaN   NaN   \n",
      "\n",
      "       PULSE  WAIST  NLOG   TIME  EVENT  \n",
      "0       40.0    1.0   0.0  31.23    1.0  \n",
      "1       37.0    1.0   5.0  29.80    1.0  \n",
      "2       40.0    1.0   4.0  21.51    0.0  \n",
      "3       43.0    1.0  13.0  31.28    0.0  \n",
      "4       36.0    1.0  19.0  27.30    1.0  \n",
      "...      ...    ...   ...    ...    ...  \n",
      "20895   38.0    2.0  13.0    NaN    0.0  \n",
      "20896   38.0    2.0  11.0  11.80    0.0  \n",
      "20897   42.0    3.0   5.0  21.82    1.0  \n",
      "20898   31.0    1.0  10.0  26.26    1.0  \n",
      "20899    NaN    2.0  10.0   9.72    1.0  \n",
      "\n",
      "[20900 rows x 25 columns]\n"
     ]
    }
   ],
   "source": [
    "print(d1)"
   ]
  },
  {
   "cell_type": "markdown",
   "id": "592cd2a6",
   "metadata": {},
   "source": [
    "## Use Numpy Shape function to see the number of rows"
   ]
  },
  {
   "cell_type": "code",
   "execution_count": 7,
   "id": "0cf01a91",
   "metadata": {},
   "outputs": [
    {
     "data": {
      "text/plain": [
       "(20900, 25)"
      ]
     },
     "execution_count": 7,
     "metadata": {},
     "output_type": "execute_result"
    }
   ],
   "source": [
    "np.shape(d1)"
   ]
  },
  {
   "cell_type": "markdown",
   "id": "156e3f14",
   "metadata": {},
   "source": [
    "## View the name of the columns and note their varible type"
   ]
  },
  {
   "cell_type": "code",
   "execution_count": 8,
   "id": "35945fd4",
   "metadata": {},
   "outputs": [
    {
     "name": "stdout",
     "output_type": "stream",
     "text": [
      "<class 'pandas.core.frame.DataFrame'>\n",
      "RangeIndex: 20900 entries, 0 to 20899\n",
      "Data columns (total 25 columns):\n",
      " #   Column  Non-Null Count  Dtype  \n",
      "---  ------  --------------  -----  \n",
      " 0   ID      20900 non-null  int64  \n",
      " 1   RACE    20900 non-null  int64  \n",
      " 2   INCOME  19742 non-null  float64\n",
      " 3   AGE     20889 non-null  float64\n",
      " 4   SMOKE   11011 non-null  float64\n",
      " 5   SBP     20694 non-null  float64\n",
      " 6   DBP     20450 non-null  float64\n",
      " 7   HT      20704 non-null  float64\n",
      " 8   WT      20640 non-null  float64\n",
      " 9   WM      18134 non-null  float64\n",
      " 10  BMI     20580 non-null  float64\n",
      " 11  VISIT   20900 non-null  int64  \n",
      " 12  SUGAR   15563 non-null  float64\n",
      " 13  BREAST  20726 non-null  float64\n",
      " 14  HIPS    20738 non-null  float64\n",
      " 15  ARMS    20739 non-null  float64\n",
      " 16  TC      7511 non-null   float64\n",
      " 17  TG      7508 non-null   float64\n",
      " 18  LDL     7453 non-null   float64\n",
      " 19  HDL     7468 non-null   float64\n",
      " 20  PULSE   20742 non-null  float64\n",
      " 21  WAIST   20749 non-null  float64\n",
      " 22  NLOG    18810 non-null  float64\n",
      " 23  TIME    18800 non-null  float64\n",
      " 24  EVENT   18820 non-null  float64\n",
      "dtypes: float64(22), int64(3)\n",
      "memory usage: 4.0 MB\n",
      "Index(['ID', 'RACE', 'INCOME', 'AGE', 'SMOKE', 'SBP', 'DBP', 'HT', 'WT', 'WM',\n",
      "       'BMI', 'VISIT', 'SUGAR', 'BREAST', 'HIPS', 'ARMS', 'TC', 'TG', 'LDL',\n",
      "       'HDL', 'PULSE', 'WAIST', 'NLOG', 'TIME', 'EVENT'],\n",
      "      dtype='object')\n"
     ]
    }
   ],
   "source": [
    "d1.info()\n",
    "print(d1.columns)"
   ]
  },
  {
   "cell_type": "markdown",
   "id": "b0ed281b",
   "metadata": {},
   "source": [
    "## Now tally the counts of the variable types"
   ]
  },
  {
   "cell_type": "code",
   "execution_count": 9,
   "id": "3f11dbeb",
   "metadata": {},
   "outputs": [
    {
     "data": {
      "text/plain": [
       "float64    22\n",
       "int64       3\n",
       "dtype: int64"
      ]
     },
     "execution_count": 9,
     "metadata": {},
     "output_type": "execute_result"
    }
   ],
   "source": [
    "d1.dtypes.value_counts()"
   ]
  },
  {
   "cell_type": "markdown",
   "id": "f1520481",
   "metadata": {},
   "source": [
    "## Check the first 6 and last six observations"
   ]
  },
  {
   "cell_type": "code",
   "execution_count": 10,
   "id": "9bf7ecf2",
   "metadata": {},
   "outputs": [
    {
     "name": "stdout",
     "output_type": "stream",
     "text": [
      "      ID  RACE  INCOME        AGE  SMOKE         SBP        DBP          HT  \\\n",
      "0  50000     1     6.0   9.350000    2.0  100.954414  70.470035  148.836360   \n",
      "1  50000     1     6.0  10.346338    2.0   97.902141  99.908720  152.306527   \n",
      "2  50000     1     6.0  11.282683    2.0  113.731914  72.775646  162.496207   \n",
      "3  50000     1     6.0  12.336756    2.0  105.055861  72.134667  163.232129   \n",
      "4  50000     1     6.0  13.388090    2.0  113.061983  87.739498  173.302667   \n",
      "5  50000     1     6.0  14.428474    NaN  112.262094  70.907870  172.672340   \n",
      "\n",
      "          WT     WM  ...  ARMS     TC     TG   LDL   HDL  PULSE  WAIST  NLOG  \\\n",
      "0  39.265374    NaN  ...   1.0  144.0  101.0  85.0  43.0   40.0    1.0   0.0   \n",
      "1  46.839810  60.00  ...   1.0    NaN    NaN   NaN   NaN   37.0    1.0   5.0   \n",
      "2  49.663579  63.45  ...   1.0  134.0  116.0  74.0  42.0   40.0    1.0   4.0   \n",
      "3  59.846505  63.25  ...   1.0    NaN    NaN   NaN   NaN   43.0    1.0  13.0   \n",
      "4  64.118305  68.20  ...   1.0  122.0   64.0  61.0  51.0   36.0    1.0  19.0   \n",
      "5  62.377088  66.95  ...   1.0    NaN    NaN   NaN   NaN   45.0    1.0   3.0   \n",
      "\n",
      "    TIME  EVENT  \n",
      "0  31.23    1.0  \n",
      "1  29.80    1.0  \n",
      "2  21.51    0.0  \n",
      "3  31.28    0.0  \n",
      "4  27.30    1.0  \n",
      "5  14.77    0.0  \n",
      "\n",
      "[6 rows x 25 columns]\n",
      "           ID  RACE  INCOME        AGE  SMOKE         SBP        DBP  \\\n",
      "20894  258090     2     9.0   9.800000    2.0  109.069005  50.120745   \n",
      "20895  258090     2     9.0  10.781656    2.0  116.914078  47.107785   \n",
      "20896  258090     2     9.0  11.701574    2.0  131.337881  78.715074   \n",
      "20897  258090     2     9.0  12.678987    2.0  114.821992  56.015046   \n",
      "20898  258090     2     9.0  13.675565    2.0  115.467410  75.004645   \n",
      "20899  258090     2     9.0  16.646133    NaN         NaN        NaN   \n",
      "\n",
      "               HT         WT     WM  ...  ARMS     TC     TG    LDL   HDL  \\\n",
      "20894  144.763776  46.182106    NaN  ...   2.0    NaN    NaN    NaN   NaN   \n",
      "20895  149.655482  52.106959  72.75  ...   1.0    NaN    NaN    NaN   NaN   \n",
      "20896  154.928702  52.161658  72.10  ...   2.0  185.0  154.0  124.0  37.0   \n",
      "20897  160.995058  58.696935  68.10  ...   1.0    NaN    NaN    NaN   NaN   \n",
      "20898  166.782871  60.067092  69.40  ...   1.0    NaN    NaN    NaN   NaN   \n",
      "20899         NaN        NaN    NaN  ...   2.0    NaN    NaN    NaN   NaN   \n",
      "\n",
      "       PULSE  WAIST  NLOG   TIME  EVENT  \n",
      "20894   32.0    2.0   6.0  41.45    0.0  \n",
      "20895   38.0    2.0  13.0    NaN    0.0  \n",
      "20896   38.0    2.0  11.0  11.80    0.0  \n",
      "20897   42.0    3.0   5.0  21.82    1.0  \n",
      "20898   31.0    1.0  10.0  26.26    1.0  \n",
      "20899    NaN    2.0  10.0   9.72    1.0  \n",
      "\n",
      "[6 rows x 25 columns]\n"
     ]
    }
   ],
   "source": [
    "print(d1.head(6))\n",
    "print(d1.tail(6))"
   ]
  },
  {
   "cell_type": "markdown",
   "id": "db7cecd0",
   "metadata": {},
   "source": [
    "##  Create a new ID variable (New_ID) from the original ID variable of d1 data"
   ]
  },
  {
   "cell_type": "code",
   "execution_count": 11,
   "id": "9f347626",
   "metadata": {},
   "outputs": [],
   "source": [
    "d1[\"New_ID\"] = d1.ID-49999"
   ]
  },
  {
   "cell_type": "markdown",
   "id": "684a4994",
   "metadata": {},
   "source": [
    "## Now delete the original ID variable from the d1 data"
   ]
  },
  {
   "cell_type": "code",
   "execution_count": 12,
   "id": "a079e27b",
   "metadata": {},
   "outputs": [
    {
     "name": "stdout",
     "output_type": "stream",
     "text": [
      "<class 'pandas.core.frame.DataFrame'>\n",
      "RangeIndex: 20900 entries, 0 to 20899\n",
      "Data columns (total 25 columns):\n",
      " #   Column  Non-Null Count  Dtype  \n",
      "---  ------  --------------  -----  \n",
      " 0   RACE    20900 non-null  int64  \n",
      " 1   INCOME  19742 non-null  float64\n",
      " 2   AGE     20889 non-null  float64\n",
      " 3   SMOKE   11011 non-null  float64\n",
      " 4   SBP     20694 non-null  float64\n",
      " 5   DBP     20450 non-null  float64\n",
      " 6   HT      20704 non-null  float64\n",
      " 7   WT      20640 non-null  float64\n",
      " 8   WM      18134 non-null  float64\n",
      " 9   BMI     20580 non-null  float64\n",
      " 10  VISIT   20900 non-null  int64  \n",
      " 11  SUGAR   15563 non-null  float64\n",
      " 12  BREAST  20726 non-null  float64\n",
      " 13  HIPS    20738 non-null  float64\n",
      " 14  ARMS    20739 non-null  float64\n",
      " 15  TC      7511 non-null   float64\n",
      " 16  TG      7508 non-null   float64\n",
      " 17  LDL     7453 non-null   float64\n",
      " 18  HDL     7468 non-null   float64\n",
      " 19  PULSE   20742 non-null  float64\n",
      " 20  WAIST   20749 non-null  float64\n",
      " 21  NLOG    18810 non-null  float64\n",
      " 22  TIME    18800 non-null  float64\n",
      " 23  EVENT   18820 non-null  float64\n",
      " 24  New_ID  20900 non-null  int64  \n",
      "dtypes: float64(22), int64(3)\n",
      "memory usage: 4.0 MB\n"
     ]
    }
   ],
   "source": [
    "del d1['ID']\n",
    "d1.info()"
   ]
  },
  {
   "cell_type": "markdown",
   "id": "9362eb89",
   "metadata": {},
   "source": [
    "## Report the missing values for each variable"
   ]
  },
  {
   "cell_type": "code",
   "execution_count": 13,
   "id": "19d8dd4e",
   "metadata": {},
   "outputs": [
    {
     "data": {
      "text/plain": [
       "RACE          0\n",
       "INCOME     1158\n",
       "AGE          11\n",
       "SMOKE      9889\n",
       "SBP         206\n",
       "DBP         450\n",
       "HT          196\n",
       "WT          260\n",
       "WM         2766\n",
       "BMI         320\n",
       "VISIT         0\n",
       "SUGAR      5337\n",
       "BREAST      174\n",
       "HIPS        162\n",
       "ARMS        161\n",
       "TC        13389\n",
       "TG        13392\n",
       "LDL       13447\n",
       "HDL       13432\n",
       "PULSE       158\n",
       "WAIST       151\n",
       "NLOG       2090\n",
       "TIME       2100\n",
       "EVENT      2080\n",
       "New_ID        0\n",
       "dtype: int64"
      ]
     },
     "execution_count": 13,
     "metadata": {},
     "output_type": "execute_result"
    }
   ],
   "source": [
    "d1.isnull().sum()"
   ]
  },
  {
   "cell_type": "markdown",
   "id": "c6fa02cd",
   "metadata": {},
   "source": [
    "## Create a column called \"Missing\" that reports the missing entries for each row"
   ]
  },
  {
   "cell_type": "code",
   "execution_count": 14,
   "id": "3b2145a8",
   "metadata": {},
   "outputs": [
    {
     "name": "stdout",
     "output_type": "stream",
     "text": [
      "0     1\n",
      "1     4\n",
      "2     0\n",
      "3     4\n",
      "4     0\n",
      "5     6\n",
      "6     1\n",
      "7     5\n",
      "8     7\n",
      "9     2\n",
      "10    2\n",
      "11    4\n",
      "12    1\n",
      "13    5\n",
      "14    1\n",
      "Name: Missing, dtype: int64\n"
     ]
    }
   ],
   "source": [
    "d1[\"Missing\"] = d1.isnull().sum(axis = 1)\n",
    "print(d1.Missing.head(15))"
   ]
  },
  {
   "cell_type": "markdown",
   "id": "b9830365",
   "metadata": {},
   "source": [
    "## Drop rows with missing entries and name the data d2"
   ]
  },
  {
   "cell_type": "code",
   "execution_count": 15,
   "id": "a8081875",
   "metadata": {},
   "outputs": [
    {
     "data": {
      "text/plain": [
       "(1942, 26)"
      ]
     },
     "execution_count": 15,
     "metadata": {},
     "output_type": "execute_result"
    }
   ],
   "source": [
    "d2 = d1.dropna()\n",
    "np.shape(d2) #see the change in dimensions"
   ]
  },
  {
   "cell_type": "markdown",
   "id": "60b190cb",
   "metadata": {},
   "source": [
    "## Now, report the descriptive statistics for the d2 data "
   ]
  },
  {
   "cell_type": "code",
   "execution_count": 16,
   "id": "c29041dc",
   "metadata": {},
   "outputs": [
    {
     "data": {
      "text/html": [
       "<div>\n",
       "<style scoped>\n",
       "    .dataframe tbody tr th:only-of-type {\n",
       "        vertical-align: middle;\n",
       "    }\n",
       "\n",
       "    .dataframe tbody tr th {\n",
       "        vertical-align: top;\n",
       "    }\n",
       "\n",
       "    .dataframe thead th {\n",
       "        text-align: right;\n",
       "    }\n",
       "</style>\n",
       "<table border=\"1\" class=\"dataframe\">\n",
       "  <thead>\n",
       "    <tr style=\"text-align: right;\">\n",
       "      <th></th>\n",
       "      <th>RACE</th>\n",
       "      <th>INCOME</th>\n",
       "      <th>AGE</th>\n",
       "      <th>SMOKE</th>\n",
       "      <th>SBP</th>\n",
       "      <th>DBP</th>\n",
       "      <th>HT</th>\n",
       "      <th>WT</th>\n",
       "      <th>WM</th>\n",
       "      <th>BMI</th>\n",
       "      <th>...</th>\n",
       "      <th>TG</th>\n",
       "      <th>LDL</th>\n",
       "      <th>HDL</th>\n",
       "      <th>PULSE</th>\n",
       "      <th>WAIST</th>\n",
       "      <th>NLOG</th>\n",
       "      <th>TIME</th>\n",
       "      <th>EVENT</th>\n",
       "      <th>New_ID</th>\n",
       "      <th>Missing</th>\n",
       "    </tr>\n",
       "  </thead>\n",
       "  <tbody>\n",
       "    <tr>\n",
       "      <th>count</th>\n",
       "      <td>1942.000000</td>\n",
       "      <td>1942.000000</td>\n",
       "      <td>1942.000000</td>\n",
       "      <td>1942.000000</td>\n",
       "      <td>1942.000000</td>\n",
       "      <td>1942.000000</td>\n",
       "      <td>1942.000000</td>\n",
       "      <td>1942.000000</td>\n",
       "      <td>1942.000000</td>\n",
       "      <td>1942.000000</td>\n",
       "      <td>...</td>\n",
       "      <td>1942.000000</td>\n",
       "      <td>1942.000000</td>\n",
       "      <td>1942.000000</td>\n",
       "      <td>1942.000000</td>\n",
       "      <td>1942.000000</td>\n",
       "      <td>1942.000000</td>\n",
       "      <td>1942.000000</td>\n",
       "      <td>1942.000000</td>\n",
       "      <td>1942.000000</td>\n",
       "      <td>1942.0</td>\n",
       "    </tr>\n",
       "    <tr>\n",
       "      <th>mean</th>\n",
       "      <td>1.498970</td>\n",
       "      <td>5.766220</td>\n",
       "      <td>12.989692</td>\n",
       "      <td>1.961895</td>\n",
       "      <td>116.607171</td>\n",
       "      <td>78.019886</td>\n",
       "      <td>163.001232</td>\n",
       "      <td>62.057736</td>\n",
       "      <td>69.132544</td>\n",
       "      <td>21.499304</td>\n",
       "      <td>...</td>\n",
       "      <td>78.635427</td>\n",
       "      <td>94.388774</td>\n",
       "      <td>55.119464</td>\n",
       "      <td>39.788363</td>\n",
       "      <td>2.019567</td>\n",
       "      <td>10.053553</td>\n",
       "      <td>32.814985</td>\n",
       "      <td>0.705458</td>\n",
       "      <td>101138.111226</td>\n",
       "      <td>0.0</td>\n",
       "    </tr>\n",
       "    <tr>\n",
       "      <th>std</th>\n",
       "      <td>0.500128</td>\n",
       "      <td>2.146354</td>\n",
       "      <td>1.152968</td>\n",
       "      <td>0.191499</td>\n",
       "      <td>9.918410</td>\n",
       "      <td>11.819161</td>\n",
       "      <td>7.901061</td>\n",
       "      <td>14.974516</td>\n",
       "      <td>9.843723</td>\n",
       "      <td>4.970828</td>\n",
       "      <td>...</td>\n",
       "      <td>38.346665</td>\n",
       "      <td>24.180451</td>\n",
       "      <td>11.752345</td>\n",
       "      <td>5.538308</td>\n",
       "      <td>0.795808</td>\n",
       "      <td>5.789651</td>\n",
       "      <td>32.277491</td>\n",
       "      <td>0.455954</td>\n",
       "      <td>82231.255616</td>\n",
       "      <td>0.0</td>\n",
       "    </tr>\n",
       "    <tr>\n",
       "      <th>min</th>\n",
       "      <td>1.000000</td>\n",
       "      <td>1.000000</td>\n",
       "      <td>10.803559</td>\n",
       "      <td>1.000000</td>\n",
       "      <td>83.475936</td>\n",
       "      <td>19.139240</td>\n",
       "      <td>129.640760</td>\n",
       "      <td>30.337862</td>\n",
       "      <td>48.150000</td>\n",
       "      <td>13.141105</td>\n",
       "      <td>...</td>\n",
       "      <td>17.000000</td>\n",
       "      <td>26.000000</td>\n",
       "      <td>22.000000</td>\n",
       "      <td>21.000000</td>\n",
       "      <td>1.000000</td>\n",
       "      <td>0.000000</td>\n",
       "      <td>0.010000</td>\n",
       "      <td>0.000000</td>\n",
       "      <td>1.000000</td>\n",
       "      <td>0.0</td>\n",
       "    </tr>\n",
       "    <tr>\n",
       "      <th>25%</th>\n",
       "      <td>1.000000</td>\n",
       "      <td>4.000000</td>\n",
       "      <td>11.991786</td>\n",
       "      <td>2.000000</td>\n",
       "      <td>110.049634</td>\n",
       "      <td>70.165695</td>\n",
       "      <td>157.912518</td>\n",
       "      <td>51.986753</td>\n",
       "      <td>62.462500</td>\n",
       "      <td>18.081886</td>\n",
       "      <td>...</td>\n",
       "      <td>53.000000</td>\n",
       "      <td>78.000000</td>\n",
       "      <td>47.000000</td>\n",
       "      <td>36.000000</td>\n",
       "      <td>1.000000</td>\n",
       "      <td>5.000000</td>\n",
       "      <td>9.575000</td>\n",
       "      <td>0.000000</td>\n",
       "      <td>12551.000000</td>\n",
       "      <td>0.0</td>\n",
       "    </tr>\n",
       "    <tr>\n",
       "      <th>50%</th>\n",
       "      <td>1.000000</td>\n",
       "      <td>6.000000</td>\n",
       "      <td>13.006160</td>\n",
       "      <td>2.000000</td>\n",
       "      <td>116.181792</td>\n",
       "      <td>78.366372</td>\n",
       "      <td>163.240992</td>\n",
       "      <td>59.860433</td>\n",
       "      <td>66.825000</td>\n",
       "      <td>20.357545</td>\n",
       "      <td>...</td>\n",
       "      <td>69.000000</td>\n",
       "      <td>92.000000</td>\n",
       "      <td>54.000000</td>\n",
       "      <td>40.000000</td>\n",
       "      <td>2.000000</td>\n",
       "      <td>10.000000</td>\n",
       "      <td>22.630000</td>\n",
       "      <td>1.000000</td>\n",
       "      <td>103491.000000</td>\n",
       "      <td>0.0</td>\n",
       "    </tr>\n",
       "    <tr>\n",
       "      <th>75%</th>\n",
       "      <td>2.000000</td>\n",
       "      <td>8.000000</td>\n",
       "      <td>13.973990</td>\n",
       "      <td>2.000000</td>\n",
       "      <td>122.957808</td>\n",
       "      <td>86.078180</td>\n",
       "      <td>168.342929</td>\n",
       "      <td>69.169509</td>\n",
       "      <td>73.350000</td>\n",
       "      <td>23.635286</td>\n",
       "      <td>...</td>\n",
       "      <td>92.000000</td>\n",
       "      <td>109.000000</td>\n",
       "      <td>62.000000</td>\n",
       "      <td>43.000000</td>\n",
       "      <td>2.000000</td>\n",
       "      <td>15.000000</td>\n",
       "      <td>46.237500</td>\n",
       "      <td>1.000000</td>\n",
       "      <td>202228.500000</td>\n",
       "      <td>0.0</td>\n",
       "    </tr>\n",
       "    <tr>\n",
       "      <th>max</th>\n",
       "      <td>2.000000</td>\n",
       "      <td>9.000000</td>\n",
       "      <td>15.668720</td>\n",
       "      <td>2.000000</td>\n",
       "      <td>158.788255</td>\n",
       "      <td>122.999703</td>\n",
       "      <td>190.090998</td>\n",
       "      <td>133.794140</td>\n",
       "      <td>114.800000</td>\n",
       "      <td>45.269353</td>\n",
       "      <td>...</td>\n",
       "      <td>365.000000</td>\n",
       "      <td>214.000000</td>\n",
       "      <td>109.000000</td>\n",
       "      <td>90.000000</td>\n",
       "      <td>4.000000</td>\n",
       "      <td>20.000000</td>\n",
       "      <td>250.910000</td>\n",
       "      <td>1.000000</td>\n",
       "      <td>208091.000000</td>\n",
       "      <td>0.0</td>\n",
       "    </tr>\n",
       "  </tbody>\n",
       "</table>\n",
       "<p>8 rows × 26 columns</p>\n",
       "</div>"
      ],
      "text/plain": [
       "              RACE       INCOME          AGE        SMOKE          SBP  \\\n",
       "count  1942.000000  1942.000000  1942.000000  1942.000000  1942.000000   \n",
       "mean      1.498970     5.766220    12.989692     1.961895   116.607171   \n",
       "std       0.500128     2.146354     1.152968     0.191499     9.918410   \n",
       "min       1.000000     1.000000    10.803559     1.000000    83.475936   \n",
       "25%       1.000000     4.000000    11.991786     2.000000   110.049634   \n",
       "50%       1.000000     6.000000    13.006160     2.000000   116.181792   \n",
       "75%       2.000000     8.000000    13.973990     2.000000   122.957808   \n",
       "max       2.000000     9.000000    15.668720     2.000000   158.788255   \n",
       "\n",
       "               DBP           HT           WT           WM          BMI  ...  \\\n",
       "count  1942.000000  1942.000000  1942.000000  1942.000000  1942.000000  ...   \n",
       "mean     78.019886   163.001232    62.057736    69.132544    21.499304  ...   \n",
       "std      11.819161     7.901061    14.974516     9.843723     4.970828  ...   \n",
       "min      19.139240   129.640760    30.337862    48.150000    13.141105  ...   \n",
       "25%      70.165695   157.912518    51.986753    62.462500    18.081886  ...   \n",
       "50%      78.366372   163.240992    59.860433    66.825000    20.357545  ...   \n",
       "75%      86.078180   168.342929    69.169509    73.350000    23.635286  ...   \n",
       "max     122.999703   190.090998   133.794140   114.800000    45.269353  ...   \n",
       "\n",
       "                TG          LDL          HDL        PULSE        WAIST  \\\n",
       "count  1942.000000  1942.000000  1942.000000  1942.000000  1942.000000   \n",
       "mean     78.635427    94.388774    55.119464    39.788363     2.019567   \n",
       "std      38.346665    24.180451    11.752345     5.538308     0.795808   \n",
       "min      17.000000    26.000000    22.000000    21.000000     1.000000   \n",
       "25%      53.000000    78.000000    47.000000    36.000000     1.000000   \n",
       "50%      69.000000    92.000000    54.000000    40.000000     2.000000   \n",
       "75%      92.000000   109.000000    62.000000    43.000000     2.000000   \n",
       "max     365.000000   214.000000   109.000000    90.000000     4.000000   \n",
       "\n",
       "              NLOG         TIME        EVENT         New_ID  Missing  \n",
       "count  1942.000000  1942.000000  1942.000000    1942.000000   1942.0  \n",
       "mean     10.053553    32.814985     0.705458  101138.111226      0.0  \n",
       "std       5.789651    32.277491     0.455954   82231.255616      0.0  \n",
       "min       0.000000     0.010000     0.000000       1.000000      0.0  \n",
       "25%       5.000000     9.575000     0.000000   12551.000000      0.0  \n",
       "50%      10.000000    22.630000     1.000000  103491.000000      0.0  \n",
       "75%      15.000000    46.237500     1.000000  202228.500000      0.0  \n",
       "max      20.000000   250.910000     1.000000  208091.000000      0.0  \n",
       "\n",
       "[8 rows x 26 columns]"
      ]
     },
     "execution_count": 16,
     "metadata": {},
     "output_type": "execute_result"
    }
   ],
   "source": [
    "d2.describe()"
   ]
  },
  {
   "cell_type": "markdown",
   "id": "6177b556",
   "metadata": {},
   "source": [
    "## Now get the std dev for each variable using a function"
   ]
  },
  {
   "cell_type": "code",
   "execution_count": 17,
   "id": "d884005e",
   "metadata": {},
   "outputs": [
    {
     "data": {
      "text/plain": [
       "RACE           0.500128\n",
       "INCOME         2.146354\n",
       "AGE            1.152968\n",
       "SMOKE          0.191499\n",
       "SBP            9.918410\n",
       "DBP           11.819161\n",
       "HT             7.901061\n",
       "WT            14.974516\n",
       "WM             9.843723\n",
       "BMI            4.970828\n",
       "VISIT          1.000181\n",
       "SUGAR         55.205954\n",
       "BREAST         0.759757\n",
       "HIPS           0.801741\n",
       "ARMS           0.698335\n",
       "TC            26.680697\n",
       "TG            38.346665\n",
       "LDL           24.180451\n",
       "HDL           11.752345\n",
       "PULSE          5.538308\n",
       "WAIST          0.795808\n",
       "NLOG           5.789651\n",
       "TIME          32.277491\n",
       "EVENT          0.455954\n",
       "New_ID     82231.255616\n",
       "Missing        0.000000\n",
       "dtype: float64"
      ]
     },
     "execution_count": 17,
     "metadata": {},
     "output_type": "execute_result"
    }
   ],
   "source": [
    "d2.std()"
   ]
  },
  {
   "cell_type": "markdown",
   "id": "8ca08379",
   "metadata": {},
   "source": [
    "## Notice that some of the variables do not make sense to calculate the std dev (remove variables with the type 'int' and recalcuate)."
   ]
  },
  {
   "cell_type": "code",
   "execution_count": 18,
   "id": "d0ba5e4f",
   "metadata": {},
   "outputs": [
    {
     "data": {
      "text/plain": [
       "INCOME     2.146354\n",
       "AGE        1.152968\n",
       "SMOKE      0.191499\n",
       "SBP        9.918410\n",
       "DBP       11.819161\n",
       "HT         7.901061\n",
       "WT        14.974516\n",
       "WM         9.843723\n",
       "BMI        4.970828\n",
       "SUGAR     55.205954\n",
       "BREAST     0.759757\n",
       "HIPS       0.801741\n",
       "ARMS       0.698335\n",
       "TC        26.680697\n",
       "TG        38.346665\n",
       "LDL       24.180451\n",
       "HDL       11.752345\n",
       "PULSE      5.538308\n",
       "WAIST      0.795808\n",
       "NLOG       5.789651\n",
       "TIME      32.277491\n",
       "EVENT      0.455954\n",
       "dtype: float64"
      ]
     },
     "execution_count": 18,
     "metadata": {},
     "output_type": "execute_result"
    }
   ],
   "source": [
    "remove = ['RACE', 'VISIT', 'New_ID', 'Missing']\n",
    "keep = [variable for variable in d2.columns if variable not in remove]\n",
    "d2[keep].std()"
   ]
  },
  {
   "cell_type": "markdown",
   "id": "d24536b0",
   "metadata": {},
   "source": [
    "## Create a new variable from the averages of DBP and SBP"
   ]
  },
  {
   "cell_type": "code",
   "execution_count": 19,
   "id": "005b3603",
   "metadata": {},
   "outputs": [
    {
     "name": "stderr",
     "output_type": "stream",
     "text": [
      "C:\\Users\\esnod\\AppData\\Local\\Temp\\ipykernel_13360\\982719785.py:1: SettingWithCopyWarning: \n",
      "A value is trying to be set on a copy of a slice from a DataFrame.\n",
      "Try using .loc[row_indexer,col_indexer] = value instead\n",
      "\n",
      "See the caveats in the documentation: https://pandas.pydata.org/pandas-docs/stable/user_guide/indexing.html#returning-a-view-versus-a-copy\n",
      "  d2['ABP'] = (d2[\"SBP\"] + d2[\"DBP\"])/2\n",
      "C:\\Users\\esnod\\AppData\\Local\\Temp\\ipykernel_13360\\982719785.py:4: SettingWithCopyWarning: \n",
      "A value is trying to be set on a copy of a slice from a DataFrame.\n",
      "Try using .loc[row_indexer,col_indexer] = value instead\n",
      "\n",
      "See the caveats in the documentation: https://pandas.pydata.org/pandas-docs/stable/user_guide/indexing.html#returning-a-view-versus-a-copy\n",
      "  d2[\"ABP2\"] = d2[initial].mean(axis = 1)\n"
     ]
    }
   ],
   "source": [
    "d2['ABP'] = (d2[\"SBP\"] + d2[\"DBP\"])/2\n",
    "#or\n",
    "initial = ['SBP', 'DBP']\n",
    "d2[\"ABP2\"] = d2[initial].mean(axis = 1)\n",
    "           "
   ]
  },
  {
   "cell_type": "code",
   "execution_count": 20,
   "id": "e050ab3d",
   "metadata": {},
   "outputs": [
    {
     "name": "stdout",
     "output_type": "stream",
     "text": [
      "            SBP        DBP         ABP        ABP2\n",
      "2    113.731914  72.775646   93.253780   93.253780\n",
      "4    113.061983  87.739498  100.400740  100.400740\n",
      "34   112.306310  91.699571  102.002941  102.002941\n",
      "42   119.631737  69.188807   94.410272   94.410272\n",
      "74   117.870715  62.075717   89.973216   89.973216\n",
      "82   129.999193  97.945443  113.972318  113.972318\n",
      "94   113.610143  86.474379  100.042261  100.042261\n",
      "102  126.964607  86.065373  106.514990  106.514990\n",
      "112  114.051806  82.536011   98.293908   98.293908\n",
      "122  115.891022  79.080441   97.485732   97.485732\n"
     ]
    }
   ],
   "source": [
    "all_var = ['SBP', 'DBP', 'ABP', 'ABP2']\n",
    "print(d2[all_var].head(10))"
   ]
  },
  {
   "cell_type": "markdown",
   "id": "3dc4f0a3",
   "metadata": {},
   "source": [
    "## Create BPC (Blood Pressure Category) variable with three labels 1, 2,and 3 in such a way that 1 stands for ABP values between 100 (inclusive) and above. 2 stands for ABP values between 85 (inclusive), and 100 (exclusive). 3 stands for all other ABP values"
   ]
  },
  {
   "cell_type": "code",
   "execution_count": 21,
   "id": "c95bf37b",
   "metadata": {},
   "outputs": [
    {
     "name": "stdout",
     "output_type": "stream",
     "text": [
      "            ABP  BPC\n",
      "2     93.253780  2.0\n",
      "4    100.400740  1.0\n",
      "34   102.002941  1.0\n",
      "42    94.410272  2.0\n",
      "74    89.973216  2.0\n",
      "82   113.972318  1.0\n",
      "94   100.042261  1.0\n",
      "102  106.514990  1.0\n",
      "112   98.293908  2.0\n",
      "122   97.485732  2.0\n",
      "124  102.109645  1.0\n",
      "136  105.634571  1.0\n",
      "147   93.409356  2.0\n",
      "155   97.335886  2.0\n",
      "157   99.252410  2.0\n",
      "164  106.301038  1.0\n",
      "182   83.912106  3.0\n",
      "184   89.748242  2.0\n",
      "200   88.533384  2.0\n",
      "210  100.480298  1.0\n"
     ]
    },
    {
     "name": "stderr",
     "output_type": "stream",
     "text": [
      "C:\\Users\\esnod\\AppData\\Local\\Temp\\ipykernel_13360\\1739049114.py:1: SettingWithCopyWarning: \n",
      "A value is trying to be set on a copy of a slice from a DataFrame.\n",
      "Try using .loc[row_indexer,col_indexer] = value instead\n",
      "\n",
      "See the caveats in the documentation: https://pandas.pydata.org/pandas-docs/stable/user_guide/indexing.html#returning-a-view-versus-a-copy\n",
      "  d2.loc[d2['ABP'] >= 100, 'BPC'] = 1\n"
     ]
    }
   ],
   "source": [
    "d2.loc[d2['ABP'] >= 100, 'BPC'] = 1\n",
    "d2.loc[d2['ABP'] < 100, 'BPC'] = 2\n",
    "d2.loc[d2['ABP'] < 85, 'BPC'] = 3\n",
    "selected_var2 = ['ABP', 'BPC']\n",
    "print(d2[selected_var2].head(20))"
   ]
  },
  {
   "cell_type": "markdown",
   "id": "1b45af1e",
   "metadata": {},
   "source": [
    "Alternative method"
   ]
  },
  {
   "cell_type": "code",
   "execution_count": 22,
   "id": "6a9c8b64",
   "metadata": {},
   "outputs": [
    {
     "name": "stdout",
     "output_type": "stream",
     "text": [
      "            ABP  BPC BPC2\n",
      "2     93.253780  2.0    2\n",
      "4    100.400740  1.0    1\n",
      "34   102.002941  1.0    1\n",
      "42    94.410272  2.0    2\n",
      "74    89.973216  2.0    2\n",
      "82   113.972318  1.0    1\n",
      "94   100.042261  1.0    1\n",
      "102  106.514990  1.0    1\n",
      "112   98.293908  2.0    2\n",
      "122   97.485732  2.0    2\n",
      "124  102.109645  1.0    1\n",
      "136  105.634571  1.0    1\n",
      "147   93.409356  2.0    2\n",
      "155   97.335886  2.0    2\n",
      "157   99.252410  2.0    2\n",
      "164  106.301038  1.0    1\n",
      "182   83.912106  3.0    3\n",
      "184   89.748242  2.0    2\n",
      "200   88.533384  2.0    2\n",
      "210  100.480298  1.0    1\n"
     ]
    },
    {
     "name": "stderr",
     "output_type": "stream",
     "text": [
      "C:\\Users\\esnod\\AppData\\Local\\Temp\\ipykernel_13360\\388189931.py:4: SettingWithCopyWarning: \n",
      "A value is trying to be set on a copy of a slice from a DataFrame.\n",
      "Try using .loc[row_indexer,col_indexer] = value instead\n",
      "\n",
      "See the caveats in the documentation: https://pandas.pydata.org/pandas-docs/stable/user_guide/indexing.html#returning-a-view-versus-a-copy\n",
      "  d2['BPC2'] = pd.cut(d2['ABP'].values,\n"
     ]
    }
   ],
   "source": [
    "abp_limit = d2['ABP'].max() +1 \n",
    "bpc_ranges = [0,85,100, abp_limit]\n",
    "bpc_labels = [3,2,1]\n",
    "d2['BPC2'] = pd.cut(d2['ABP'].values,\n",
    "                   bins = bpc_ranges,\n",
    "                   include_lowest = False, \n",
    "                   right = False,\n",
    "                   labels = bpc_labels)\n",
    "selected_var3 = [\"ABP\", \"BPC\", \"BPC2\"]\n",
    "print(d2[selected_var3].head(20))"
   ]
  },
  {
   "cell_type": "markdown",
   "id": "2b5acae6",
   "metadata": {},
   "source": [
    "## Construct a frequency table for the BPC variable of d2 data"
   ]
  },
  {
   "cell_type": "code",
   "execution_count": 23,
   "id": "62d46582",
   "metadata": {},
   "outputs": [
    {
     "data": {
      "text/html": [
       "<div>\n",
       "<style scoped>\n",
       "    .dataframe tbody tr th:only-of-type {\n",
       "        vertical-align: middle;\n",
       "    }\n",
       "\n",
       "    .dataframe tbody tr th {\n",
       "        vertical-align: top;\n",
       "    }\n",
       "\n",
       "    .dataframe thead th {\n",
       "        text-align: right;\n",
       "    }\n",
       "</style>\n",
       "<table border=\"1\" class=\"dataframe\">\n",
       "  <thead>\n",
       "    <tr style=\"text-align: right;\">\n",
       "      <th>col_0</th>\n",
       "      <th>Count</th>\n",
       "    </tr>\n",
       "    <tr>\n",
       "      <th>BPC</th>\n",
       "      <th></th>\n",
       "    </tr>\n",
       "  </thead>\n",
       "  <tbody>\n",
       "    <tr>\n",
       "      <th>1.0</th>\n",
       "      <td>716</td>\n",
       "    </tr>\n",
       "    <tr>\n",
       "      <th>2.0</th>\n",
       "      <td>1100</td>\n",
       "    </tr>\n",
       "    <tr>\n",
       "      <th>3.0</th>\n",
       "      <td>126</td>\n",
       "    </tr>\n",
       "  </tbody>\n",
       "</table>\n",
       "</div>"
      ],
      "text/plain": [
       "col_0  Count\n",
       "BPC         \n",
       "1.0      716\n",
       "2.0     1100\n",
       "3.0      126"
      ]
     },
     "execution_count": 23,
     "metadata": {},
     "output_type": "execute_result"
    }
   ],
   "source": [
    "pd.crosstab(index=d2['BPC'], columns = \"Count\")"
   ]
  },
  {
   "cell_type": "markdown",
   "id": "1079529a",
   "metadata": {},
   "source": [
    "## Also construct frequency table for BPC and RACE variables of d2 data"
   ]
  },
  {
   "cell_type": "code",
   "execution_count": 24,
   "id": "f9eba63c",
   "metadata": {},
   "outputs": [
    {
     "data": {
      "text/html": [
       "<div>\n",
       "<style scoped>\n",
       "    .dataframe tbody tr th:only-of-type {\n",
       "        vertical-align: middle;\n",
       "    }\n",
       "\n",
       "    .dataframe tbody tr th {\n",
       "        vertical-align: top;\n",
       "    }\n",
       "\n",
       "    .dataframe thead th {\n",
       "        text-align: right;\n",
       "    }\n",
       "</style>\n",
       "<table border=\"1\" class=\"dataframe\">\n",
       "  <thead>\n",
       "    <tr style=\"text-align: right;\">\n",
       "      <th>RACE</th>\n",
       "      <th>1</th>\n",
       "      <th>2</th>\n",
       "    </tr>\n",
       "    <tr>\n",
       "      <th>BPC</th>\n",
       "      <th></th>\n",
       "      <th></th>\n",
       "    </tr>\n",
       "  </thead>\n",
       "  <tbody>\n",
       "    <tr>\n",
       "      <th>1.0</th>\n",
       "      <td>388</td>\n",
       "      <td>328</td>\n",
       "    </tr>\n",
       "    <tr>\n",
       "      <th>2.0</th>\n",
       "      <td>522</td>\n",
       "      <td>578</td>\n",
       "    </tr>\n",
       "    <tr>\n",
       "      <th>3.0</th>\n",
       "      <td>63</td>\n",
       "      <td>63</td>\n",
       "    </tr>\n",
       "  </tbody>\n",
       "</table>\n",
       "</div>"
      ],
      "text/plain": [
       "RACE    1    2\n",
       "BPC           \n",
       "1.0   388  328\n",
       "2.0   522  578\n",
       "3.0    63   63"
      ]
     },
     "execution_count": 24,
     "metadata": {},
     "output_type": "execute_result"
    }
   ],
   "source": [
    "pd.crosstab(index= d2['BPC'], columns = d2[\"RACE\"])"
   ]
  },
  {
   "cell_type": "markdown",
   "id": "ec9b23e5",
   "metadata": {},
   "source": [
    "## Use the groupby function to find mean of TC for RACE variable"
   ]
  },
  {
   "cell_type": "code",
   "execution_count": 25,
   "id": "ba389c04",
   "metadata": {},
   "outputs": [
    {
     "data": {
      "text/plain": [
       "RACE\n",
       "1    162.535457\n",
       "2    160.748194\n",
       "Name: TC, dtype: float64"
      ]
     },
     "execution_count": 25,
     "metadata": {},
     "output_type": "execute_result"
    }
   ],
   "source": [
    "by_race = d2.groupby(\"RACE\")\n",
    "by_race['TC'].mean()"
   ]
  },
  {
   "cell_type": "markdown",
   "id": "32d2df90",
   "metadata": {},
   "source": [
    "## Group by the smoke variable and calculate the variance of TC"
   ]
  },
  {
   "cell_type": "code",
   "execution_count": 26,
   "id": "4bbe8007",
   "metadata": {},
   "outputs": [
    {
     "name": "stdout",
     "output_type": "stream",
     "text": [
      "SMOKE\n",
      "1.0    475.760274\n",
      "2.0    719.917068\n",
      "Name: TC, dtype: float64\n",
      "SMOKE\n",
      "1.0    21.81193\n",
      "2.0    26.83127\n",
      "Name: TC, dtype: float64\n"
     ]
    }
   ],
   "source": [
    "by_smoke = d2.groupby(\"SMOKE\")\n",
    "print(by_smoke[\"TC\"].var())\n",
    "print(by_smoke[\"TC\"].std())"
   ]
  },
  {
   "cell_type": "markdown",
   "id": "5420b7e0",
   "metadata": {},
   "source": [
    "## Drop duplicates based on 'New_ID' variable from the d2 data and name it d3"
   ]
  },
  {
   "cell_type": "code",
   "execution_count": 27,
   "id": "83652c7e",
   "metadata": {},
   "outputs": [
    {
     "name": "stdout",
     "output_type": "stream",
     "text": [
      "(1942, 30)\n",
      "(1440, 30)\n"
     ]
    }
   ],
   "source": [
    "d3 = d2.drop_duplicates('New_ID')\n",
    "print(np.shape(d2))\n",
    "print(np.shape(d3))"
   ]
  },
  {
   "cell_type": "markdown",
   "id": "cbdba94b",
   "metadata": {},
   "source": [
    "## Take a random sample of size 200 without replacement from the d3 dataframe"
   ]
  },
  {
   "cell_type": "code",
   "execution_count": 28,
   "id": "af879e2d",
   "metadata": {},
   "outputs": [
    {
     "name": "stdout",
     "output_type": "stream",
     "text": [
      "(200, 30)\n"
     ]
    }
   ],
   "source": [
    "from random import sample\n",
    "random_sample = d3.sample(n = 200, replace = False)\n",
    "print(np.shape(random_sample))"
   ]
  },
  {
   "cell_type": "markdown",
   "id": "447dbd59",
   "metadata": {},
   "source": [
    "## Also take a random of size 200 from the SBP variable of d3 data"
   ]
  },
  {
   "cell_type": "code",
   "execution_count": 29,
   "id": "9bb679e3",
   "metadata": {},
   "outputs": [
    {
     "name": "stdout",
     "output_type": "stream",
     "text": [
      "(200,)\n",
      "(200,)\n"
     ]
    }
   ],
   "source": [
    "random_sample2 = d3[\"SBP\"].sample(n=200)\n",
    "#Alternative method\n",
    "rs=sample(sorted(d3.SBP),200)\n",
    "print(np.shape(random_sample2))\n",
    "print(np.shape(rs))"
   ]
  },
  {
   "cell_type": "markdown",
   "id": "a9c238e2",
   "metadata": {},
   "source": [
    "## Create a stem leaf plot of the sample SBP variable from question 35"
   ]
  },
  {
   "cell_type": "code",
   "execution_count": 30,
   "id": "5db8b6f3",
   "metadata": {},
   "outputs": [
    {
     "name": "stdout",
     "output_type": "stream",
     "text": [
      "Requirement already satisfied: stemgraphic in c:\\users\\esnod\\anaconda3\\lib\\site-packages (0.9.1)\n",
      "Requirement already satisfied: seaborn in c:\\users\\esnod\\anaconda3\\lib\\site-packages (from stemgraphic) (0.11.2)\n",
      "Requirement already satisfied: docopt in c:\\users\\esnod\\anaconda3\\lib\\site-packages (from stemgraphic) (0.6.2)\n",
      "Requirement already satisfied: matplotlib in c:\\users\\esnod\\anaconda3\\lib\\site-packages (from stemgraphic) (3.5.1)\n",
      "Requirement already satisfied: pandas in c:\\users\\esnod\\anaconda3\\lib\\site-packages (from stemgraphic) (1.4.2)\n",
      "Requirement already satisfied: cycler>=0.10 in c:\\users\\esnod\\anaconda3\\lib\\site-packages (from matplotlib->stemgraphic) (0.11.0)\n",
      "Requirement already satisfied: python-dateutil>=2.7 in c:\\users\\esnod\\anaconda3\\lib\\site-packages (from matplotlib->stemgraphic) (2.8.2)\n",
      "Requirement already satisfied: pillow>=6.2.0 in c:\\users\\esnod\\anaconda3\\lib\\site-packages (from matplotlib->stemgraphic) (9.0.1)\n",
      "Requirement already satisfied: pyparsing>=2.2.1 in c:\\users\\esnod\\anaconda3\\lib\\site-packages (from matplotlib->stemgraphic) (3.0.4)\n",
      "Requirement already satisfied: numpy>=1.17 in c:\\users\\esnod\\anaconda3\\lib\\site-packages (from matplotlib->stemgraphic) (1.21.5)\n",
      "Requirement already satisfied: kiwisolver>=1.0.1 in c:\\users\\esnod\\anaconda3\\lib\\site-packages (from matplotlib->stemgraphic) (1.3.2)\n",
      "Requirement already satisfied: packaging>=20.0 in c:\\users\\esnod\\anaconda3\\lib\\site-packages (from matplotlib->stemgraphic) (21.3)\n",
      "Requirement already satisfied: fonttools>=4.22.0 in c:\\users\\esnod\\anaconda3\\lib\\site-packages (from matplotlib->stemgraphic) (4.25.0)\n",
      "Requirement already satisfied: six>=1.5 in c:\\users\\esnod\\anaconda3\\lib\\site-packages (from python-dateutil>=2.7->matplotlib->stemgraphic) (1.16.0)\n",
      "Requirement already satisfied: pytz>=2020.1 in c:\\users\\esnod\\anaconda3\\lib\\site-packages (from pandas->stemgraphic) (2021.3)\n",
      "Requirement already satisfied: scipy>=1.0 in c:\\users\\esnod\\anaconda3\\lib\\site-packages (from seaborn->stemgraphic) (1.7.3)\n"
     ]
    }
   ],
   "source": [
    "!pip install stemgraphic\n",
    "import stemgraphic"
   ]
  },
  {
   "cell_type": "code",
   "execution_count": 31,
   "id": "e8f679d6",
   "metadata": {},
   "outputs": [
    {
     "data": {
      "image/png": "[encoded data removed]",
      "text/plain": [
       "<Figure size 540x936 with 1 Axes>"
      ]
     },
     "metadata": {
      "needs_background": "light"
     },
     "output_type": "display_data"
    }
   ],
   "source": [
    "import matplotlib.pyplot as plt\n",
    "fig, ax = stemgraphic.stem_graphic(random_sample2)\n",
    "plt.show()"
   ]
  },
  {
   "cell_type": "markdown",
   "id": "18ff2d3f",
   "metadata": {},
   "source": [
    "## Subset the original d1 data by ignoring ID, TC, TG, LDL, HDL, SMOKE, WM, SUGAR, TIME, and EVENT variables. Denote this new data as d4."
   ]
  },
  {
   "cell_type": "code",
   "execution_count": 32,
   "id": "90a42d6c",
   "metadata": {},
   "outputs": [],
   "source": [
    "remove = ['ID', 'TC', 'TG', 'LDL', 'HDL', 'SMOKE', 'WM', 'SUGAR', 'TIME', 'EVENT']\n",
    "keep = [variable for variable in d1.columns if variable not in remove]\n",
    "d4 = d1[keep].copy()"
   ]
  },
  {
   "cell_type": "markdown",
   "id": "b58b41d1",
   "metadata": {},
   "source": [
    "## Check the dimension of the new d4 data "
   ]
  },
  {
   "cell_type": "code",
   "execution_count": 33,
   "id": "58626363",
   "metadata": {},
   "outputs": [
    {
     "data": {
      "text/plain": [
       "(20900, 17)"
      ]
     },
     "execution_count": 33,
     "metadata": {},
     "output_type": "execute_result"
    }
   ],
   "source": [
    "np.shape(d4)"
   ]
  },
  {
   "cell_type": "markdown",
   "id": "6c60e363",
   "metadata": {},
   "source": [
    "## Delete any missing values (rows) from d4, and denote this data as d5"
   ]
  },
  {
   "cell_type": "code",
   "execution_count": 34,
   "id": "5152c51d",
   "metadata": {},
   "outputs": [
    {
     "data": {
      "text/plain": [
       "(17025, 17)"
      ]
     },
     "execution_count": 34,
     "metadata": {},
     "output_type": "execute_result"
    }
   ],
   "source": [
    "d5 = d4.dropna()\n",
    "np.shape(d5)"
   ]
  },
  {
   "cell_type": "markdown",
   "id": "2ec6b7a6",
   "metadata": {},
   "source": [
    "## Create NEW_AGE variable in d5 data by rounding the AGE variable to one decimal point"
   ]
  },
  {
   "cell_type": "code",
   "execution_count": 35,
   "id": "b7154d51",
   "metadata": {},
   "outputs": [
    {
     "name": "stdout",
     "output_type": "stream",
     "text": [
      "          AGE  NEW_AGE\n",
      "0    9.350000      9.4\n",
      "1   10.346338     10.3\n",
      "2   11.282683     11.3\n",
      "3   12.336756     12.3\n",
      "4   13.388090     13.4\n",
      "5   14.428474     14.4\n",
      "6   15.321013     15.3\n",
      "7   16.580424     16.6\n",
      "9   18.420260     18.4\n",
      "10  10.920000     10.9\n",
      "11  11.917864     11.9\n",
      "12  13.007529     13.0\n",
      "14  15.058179     15.1\n",
      "15  15.994524     16.0\n",
      "16  16.930869     16.9\n"
     ]
    },
    {
     "name": "stderr",
     "output_type": "stream",
     "text": [
      "C:\\Users\\esnod\\AppData\\Local\\Temp\\ipykernel_13360\\14767554.py:1: SettingWithCopyWarning:\n",
      "\n",
      "\n",
      "A value is trying to be set on a copy of a slice from a DataFrame.\n",
      "Try using .loc[row_indexer,col_indexer] = value instead\n",
      "\n",
      "See the caveats in the documentation: https://pandas.pydata.org/pandas-docs/stable/user_guide/indexing.html#returning-a-view-versus-a-copy\n",
      "\n"
     ]
    }
   ],
   "source": [
    "d5[\"NEW_AGE\"] = round(d5[\"AGE\"],1)\n",
    "selected_var4 = [\"AGE\", \"NEW_AGE\"]\n",
    "print(d5[selected_var4].head(15))"
   ]
  },
  {
   "cell_type": "markdown",
   "id": "00f6309a",
   "metadata": {},
   "source": [
    "## Subset the d5 data by keeping values of the NEW_AGE variable from 9.1 to 19."
   ]
  },
  {
   "cell_type": "code",
   "execution_count": 36,
   "id": "33162269",
   "metadata": {},
   "outputs": [
    {
     "name": "stdout",
     "output_type": "stream",
     "text": [
      "19.0\n",
      "9.1\n"
     ]
    }
   ],
   "source": [
    "d5 = d5.loc[d5[\"NEW_AGE\"] >= 9.1].copy()\n",
    "d5 = d5.loc[d5[\"NEW_AGE\"] <= 19].copy()\n",
    "print(d5[\"NEW_AGE\"].max())\n",
    "print(d5[\"NEW_AGE\"].min())"
   ]
  },
  {
   "cell_type": "markdown",
   "id": "721f3830",
   "metadata": {},
   "source": [
    "## Export this d5 data in csv format from R and Python environment to a drive in your computer"
   ]
  },
  {
   "cell_type": "code",
   "execution_count": 37,
   "id": "de90a01e",
   "metadata": {},
   "outputs": [],
   "source": [
    "d5.to_csv(\"Cleaned_Data.csv\", index = False)\n",
    "#To excel\n",
    "d5.to_excel(\"Cleaned_Data.xlsx\", index = False)"
   ]
  },
  {
   "cell_type": "markdown",
   "id": "9572f4aa",
   "metadata": {},
   "source": [
    "## Split the d5 data by NEW_AGE variable and denote the split data by d6"
   ]
  },
  {
   "cell_type": "code",
   "execution_count": 38,
   "id": "ad5f352c",
   "metadata": {},
   "outputs": [],
   "source": [
    "d6 = d5.groupby('NEW_AGE')"
   ]
  },
  {
   "cell_type": "markdown",
   "id": "807530a0",
   "metadata": {},
   "source": [
    "## Check how many sets the d6 data was split into "
   ]
  },
  {
   "cell_type": "code",
   "execution_count": 39,
   "id": "3a756e94",
   "metadata": {},
   "outputs": [
    {
     "data": {
      "text/plain": [
       "100"
      ]
     },
     "execution_count": 39,
     "metadata": {},
     "output_type": "execute_result"
    }
   ],
   "source": [
    "len(d6)"
   ]
  },
  {
   "cell_type": "markdown",
   "id": "317ba240",
   "metadata": {},
   "source": [
    "## Write a for loop function so that you can find the mean, variance, minimum, maximum, median of SBP variable for each split data."
   ]
  },
  {
   "cell_type": "code",
   "execution_count": 49,
   "id": "718ac9a4",
   "metadata": {},
   "outputs": [
    {
     "data": {
      "text/html": [
       "<div>\n",
       "<style scoped>\n",
       "    .dataframe tbody tr th:only-of-type {\n",
       "        vertical-align: middle;\n",
       "    }\n",
       "\n",
       "    .dataframe tbody tr th {\n",
       "        vertical-align: top;\n",
       "    }\n",
       "\n",
       "    .dataframe thead th {\n",
       "        text-align: right;\n",
       "    }\n",
       "</style>\n",
       "<table border=\"1\" class=\"dataframe\">\n",
       "  <thead>\n",
       "    <tr style=\"text-align: right;\">\n",
       "      <th></th>\n",
       "      <th>age</th>\n",
       "      <th>mean_SBP</th>\n",
       "      <th>variance_SBP</th>\n",
       "      <th>minimum_SBP</th>\n",
       "      <th>max_SBP</th>\n",
       "      <th>median_SBP</th>\n",
       "    </tr>\n",
       "  </thead>\n",
       "  <tbody>\n",
       "    <tr>\n",
       "      <th>0</th>\n",
       "      <td>9.1</td>\n",
       "      <td>110.952981</td>\n",
       "      <td>90.312908</td>\n",
       "      <td>91.527221</td>\n",
       "      <td>135.345943</td>\n",
       "      <td>110.302969</td>\n",
       "    </tr>\n",
       "    <tr>\n",
       "      <th>0</th>\n",
       "      <td>9.2</td>\n",
       "      <td>110.214254</td>\n",
       "      <td>126.242470</td>\n",
       "      <td>77.849971</td>\n",
       "      <td>137.801996</td>\n",
       "      <td>111.126137</td>\n",
       "    </tr>\n",
       "    <tr>\n",
       "      <th>0</th>\n",
       "      <td>9.3</td>\n",
       "      <td>109.276696</td>\n",
       "      <td>72.173533</td>\n",
       "      <td>86.319955</td>\n",
       "      <td>129.225901</td>\n",
       "      <td>109.234756</td>\n",
       "    </tr>\n",
       "    <tr>\n",
       "      <th>0</th>\n",
       "      <td>9.4</td>\n",
       "      <td>108.801674</td>\n",
       "      <td>83.583964</td>\n",
       "      <td>86.075196</td>\n",
       "      <td>132.187981</td>\n",
       "      <td>108.783853</td>\n",
       "    </tr>\n",
       "    <tr>\n",
       "      <th>0</th>\n",
       "      <td>9.5</td>\n",
       "      <td>110.074231</td>\n",
       "      <td>108.914675</td>\n",
       "      <td>84.615417</td>\n",
       "      <td>138.155674</td>\n",
       "      <td>110.171609</td>\n",
       "    </tr>\n",
       "    <tr>\n",
       "      <th>...</th>\n",
       "      <td>...</td>\n",
       "      <td>...</td>\n",
       "      <td>...</td>\n",
       "      <td>...</td>\n",
       "      <td>...</td>\n",
       "      <td>...</td>\n",
       "    </tr>\n",
       "    <tr>\n",
       "      <th>0</th>\n",
       "      <td>18.6</td>\n",
       "      <td>118.218587</td>\n",
       "      <td>96.009033</td>\n",
       "      <td>98.855967</td>\n",
       "      <td>145.429560</td>\n",
       "      <td>118.275142</td>\n",
       "    </tr>\n",
       "    <tr>\n",
       "      <th>0</th>\n",
       "      <td>18.7</td>\n",
       "      <td>118.389608</td>\n",
       "      <td>81.660548</td>\n",
       "      <td>99.663679</td>\n",
       "      <td>149.166511</td>\n",
       "      <td>116.951139</td>\n",
       "    </tr>\n",
       "    <tr>\n",
       "      <th>0</th>\n",
       "      <td>18.8</td>\n",
       "      <td>119.299649</td>\n",
       "      <td>119.339312</td>\n",
       "      <td>97.576738</td>\n",
       "      <td>162.073075</td>\n",
       "      <td>117.852347</td>\n",
       "    </tr>\n",
       "    <tr>\n",
       "      <th>0</th>\n",
       "      <td>18.9</td>\n",
       "      <td>119.069319</td>\n",
       "      <td>114.421439</td>\n",
       "      <td>90.526729</td>\n",
       "      <td>141.318113</td>\n",
       "      <td>118.777370</td>\n",
       "    </tr>\n",
       "    <tr>\n",
       "      <th>0</th>\n",
       "      <td>19.0</td>\n",
       "      <td>118.212442</td>\n",
       "      <td>109.793793</td>\n",
       "      <td>96.363453</td>\n",
       "      <td>146.515117</td>\n",
       "      <td>117.454612</td>\n",
       "    </tr>\n",
       "  </tbody>\n",
       "</table>\n",
       "<p>100 rows × 6 columns</p>\n",
       "</div>"
      ],
      "text/plain": [
       "     age    mean_SBP  variance_SBP  minimum_SBP     max_SBP  median_SBP\n",
       "0    9.1  110.952981     90.312908    91.527221  135.345943  110.302969\n",
       "0    9.2  110.214254    126.242470    77.849971  137.801996  111.126137\n",
       "0    9.3  109.276696     72.173533    86.319955  129.225901  109.234756\n",
       "0    9.4  108.801674     83.583964    86.075196  132.187981  108.783853\n",
       "0    9.5  110.074231    108.914675    84.615417  138.155674  110.171609\n",
       "..   ...         ...           ...          ...         ...         ...\n",
       "0   18.6  118.218587     96.009033    98.855967  145.429560  118.275142\n",
       "0   18.7  118.389608     81.660548    99.663679  149.166511  116.951139\n",
       "0   18.8  119.299649    119.339312    97.576738  162.073075  117.852347\n",
       "0   18.9  119.069319    114.421439    90.526729  141.318113  118.777370\n",
       "0   19.0  118.212442    109.793793    96.363453  146.515117  117.454612\n",
       "\n",
       "[100 rows x 6 columns]"
      ]
     },
     "execution_count": 49,
     "metadata": {},
     "output_type": "execute_result"
    }
   ],
   "source": [
    "import statistics as ss \n",
    "datalist = []\n",
    "ds = [rows for _, rows in d5.groupby(\"NEW_AGE\")]\n",
    "for i in range(len(ds)):\n",
    "    datalist.append(pd.DataFrame(\n",
    "    {\n",
    "        'age': [ss.mean(ds[i].NEW_AGE)], \n",
    "        \"mean_SBP\": [ss.mean(ds[i].SBP)],\n",
    "        \"variance_SBP\" : [ss.variance(ds[i].SBP)],\n",
    "        \"minimum_SBP\": [min(ds[i].SBP)],\n",
    "        'max_SBP' : [max(ds[i].SBP)],\n",
    "        'median_SBP' : [np.median(ds[i].SBP)]\n",
    "    }))\n",
    "pd.concat(datalist)"
   ]
  },
  {
   "cell_type": "markdown",
   "id": "247af1fd",
   "metadata": {},
   "source": [
    "### Alternative methods"
   ]
  },
  {
   "cell_type": "code",
   "execution_count": 56,
   "id": "f1d9fe65",
   "metadata": {},
   "outputs": [
    {
     "data": {
      "text/html": [
       "<div>\n",
       "<style scoped>\n",
       "    .dataframe tbody tr th:only-of-type {\n",
       "        vertical-align: middle;\n",
       "    }\n",
       "\n",
       "    .dataframe tbody tr th {\n",
       "        vertical-align: top;\n",
       "    }\n",
       "\n",
       "    .dataframe thead th {\n",
       "        text-align: right;\n",
       "    }\n",
       "</style>\n",
       "<table border=\"1\" class=\"dataframe\">\n",
       "  <thead>\n",
       "    <tr style=\"text-align: right;\">\n",
       "      <th></th>\n",
       "      <th>mean</th>\n",
       "      <th>variance</th>\n",
       "      <th>min</th>\n",
       "      <th>max</th>\n",
       "      <th>median</th>\n",
       "    </tr>\n",
       "    <tr>\n",
       "      <th>NEW_AGE</th>\n",
       "      <th></th>\n",
       "      <th></th>\n",
       "      <th></th>\n",
       "      <th></th>\n",
       "      <th></th>\n",
       "    </tr>\n",
       "  </thead>\n",
       "  <tbody>\n",
       "    <tr>\n",
       "      <th>9.1</th>\n",
       "      <td>110.952981</td>\n",
       "      <td>90.312908</td>\n",
       "      <td>91.527221</td>\n",
       "      <td>135.345943</td>\n",
       "      <td>110.302969</td>\n",
       "    </tr>\n",
       "    <tr>\n",
       "      <th>9.2</th>\n",
       "      <td>110.214254</td>\n",
       "      <td>126.242470</td>\n",
       "      <td>77.849971</td>\n",
       "      <td>137.801996</td>\n",
       "      <td>111.126137</td>\n",
       "    </tr>\n",
       "    <tr>\n",
       "      <th>9.3</th>\n",
       "      <td>109.276696</td>\n",
       "      <td>72.173533</td>\n",
       "      <td>86.319955</td>\n",
       "      <td>129.225901</td>\n",
       "      <td>109.234756</td>\n",
       "    </tr>\n",
       "    <tr>\n",
       "      <th>9.4</th>\n",
       "      <td>108.801674</td>\n",
       "      <td>83.583964</td>\n",
       "      <td>86.075196</td>\n",
       "      <td>132.187981</td>\n",
       "      <td>108.783853</td>\n",
       "    </tr>\n",
       "    <tr>\n",
       "      <th>9.5</th>\n",
       "      <td>110.074231</td>\n",
       "      <td>108.914675</td>\n",
       "      <td>84.615417</td>\n",
       "      <td>138.155674</td>\n",
       "      <td>110.171609</td>\n",
       "    </tr>\n",
       "    <tr>\n",
       "      <th>...</th>\n",
       "      <td>...</td>\n",
       "      <td>...</td>\n",
       "      <td>...</td>\n",
       "      <td>...</td>\n",
       "      <td>...</td>\n",
       "    </tr>\n",
       "    <tr>\n",
       "      <th>18.6</th>\n",
       "      <td>118.218587</td>\n",
       "      <td>96.009033</td>\n",
       "      <td>98.855967</td>\n",
       "      <td>145.429560</td>\n",
       "      <td>118.275142</td>\n",
       "    </tr>\n",
       "    <tr>\n",
       "      <th>18.7</th>\n",
       "      <td>118.389608</td>\n",
       "      <td>81.660548</td>\n",
       "      <td>99.663679</td>\n",
       "      <td>149.166511</td>\n",
       "      <td>116.951139</td>\n",
       "    </tr>\n",
       "    <tr>\n",
       "      <th>18.8</th>\n",
       "      <td>119.299649</td>\n",
       "      <td>119.339312</td>\n",
       "      <td>97.576738</td>\n",
       "      <td>162.073075</td>\n",
       "      <td>117.852347</td>\n",
       "    </tr>\n",
       "    <tr>\n",
       "      <th>18.9</th>\n",
       "      <td>119.069319</td>\n",
       "      <td>114.421439</td>\n",
       "      <td>90.526729</td>\n",
       "      <td>141.318113</td>\n",
       "      <td>118.777370</td>\n",
       "    </tr>\n",
       "    <tr>\n",
       "      <th>19.0</th>\n",
       "      <td>118.212442</td>\n",
       "      <td>109.793793</td>\n",
       "      <td>96.363453</td>\n",
       "      <td>146.515117</td>\n",
       "      <td>117.454612</td>\n",
       "    </tr>\n",
       "  </tbody>\n",
       "</table>\n",
       "<p>100 rows × 5 columns</p>\n",
       "</div>"
      ],
      "text/plain": [
       "               mean    variance        min         max      median\n",
       "NEW_AGE                                                           \n",
       "9.1      110.952981   90.312908  91.527221  135.345943  110.302969\n",
       "9.2      110.214254  126.242470  77.849971  137.801996  111.126137\n",
       "9.3      109.276696   72.173533  86.319955  129.225901  109.234756\n",
       "9.4      108.801674   83.583964  86.075196  132.187981  108.783853\n",
       "9.5      110.074231  108.914675  84.615417  138.155674  110.171609\n",
       "...             ...         ...        ...         ...         ...\n",
       "18.6     118.218587   96.009033  98.855967  145.429560  118.275142\n",
       "18.7     118.389608   81.660548  99.663679  149.166511  116.951139\n",
       "18.8     119.299649  119.339312  97.576738  162.073075  117.852347\n",
       "18.9     119.069319  114.421439  90.526729  141.318113  118.777370\n",
       "19.0     118.212442  109.793793  96.363453  146.515117  117.454612\n",
       "\n",
       "[100 rows x 5 columns]"
      ]
     },
     "execution_count": 56,
     "metadata": {},
     "output_type": "execute_result"
    }
   ],
   "source": [
    "d6['SBP'].agg([ss.mean, ss.variance, min, max, np.median])"
   ]
  },
  {
   "cell_type": "code",
   "execution_count": 57,
   "id": "1883b9b8",
   "metadata": {},
   "outputs": [
    {
     "name": "stdout",
     "output_type": "stream",
     "text": [
      "                 Mean    Variance        Min         Max      Median\n",
      "NEW_AGE                                                             \n",
      "9.1     0  110.952981   90.312908  91.527221  135.345943  110.302969\n",
      "9.2     0  110.214254  126.242470  77.849971  137.801996  111.126137\n",
      "9.3     0  109.276696   72.173533  86.319955  129.225901  109.234756\n",
      "9.4     0  108.801674   83.583964  86.075196  132.187981  108.783853\n",
      "9.5     0  110.074231  108.914675  84.615417  138.155674  110.171609\n",
      "...               ...         ...        ...         ...         ...\n",
      "18.6    0  118.218587   96.009033  98.855967  145.429560  118.275142\n",
      "18.7    0  118.389608   81.660548  99.663679  149.166511  116.951139\n",
      "18.8    0  119.299649  119.339312  97.576738  162.073075  117.852347\n",
      "18.9    0  119.069319  114.421439  90.526729  141.318113  118.777370\n",
      "19.0    0  118.212442  109.793793  96.363453  146.515117  117.454612\n",
      "\n",
      "[100 rows x 5 columns]\n"
     ]
    }
   ],
   "source": [
    "def test1(df):\n",
    "    Mean = ss.mean(df.SBP)\n",
    "    Variance = ss.variance(df.SBP)\n",
    "    Min = min(df.SBP)\n",
    "    Max = max(df.SBP)\n",
    "    Median = ss.median(df.SBP)\n",
    "    allstats = pd.DataFrame({\"Mean\": [Mean], \"Variance\": [Variance], \"Min\": [Min], \"Max\": [Max], \"Median\": [Median]})\n",
    "    return allstats\n",
    "\n",
    "print(d6.apply(test1))"
   ]
  },
  {
   "cell_type": "markdown",
   "id": "0da85339",
   "metadata": {},
   "source": [
    "## Construct a 3-way frequency table ‘RACE’, ‘SMOKE’ and ‘INCOME’ variables"
   ]
  },
  {
   "cell_type": "code",
   "execution_count": 61,
   "id": "67689457",
   "metadata": {},
   "outputs": [
    {
     "data": {
      "text/html": [
       "<div>\n",
       "<style scoped>\n",
       "    .dataframe tbody tr th:only-of-type {\n",
       "        vertical-align: middle;\n",
       "    }\n",
       "\n",
       "    .dataframe tbody tr th {\n",
       "        vertical-align: top;\n",
       "    }\n",
       "\n",
       "    .dataframe thead tr th {\n",
       "        text-align: left;\n",
       "    }\n",
       "\n",
       "    .dataframe thead tr:last-of-type th {\n",
       "        text-align: right;\n",
       "    }\n",
       "</style>\n",
       "<table border=\"1\" class=\"dataframe\">\n",
       "  <thead>\n",
       "    <tr>\n",
       "      <th>RACE</th>\n",
       "      <th colspan=\"2\" halign=\"left\">1</th>\n",
       "      <th colspan=\"2\" halign=\"left\">2</th>\n",
       "      <th>All</th>\n",
       "    </tr>\n",
       "    <tr>\n",
       "      <th>SMOKE</th>\n",
       "      <th>1.0</th>\n",
       "      <th>2.0</th>\n",
       "      <th>1.0</th>\n",
       "      <th>2.0</th>\n",
       "      <th></th>\n",
       "    </tr>\n",
       "    <tr>\n",
       "      <th>INCOME</th>\n",
       "      <th></th>\n",
       "      <th></th>\n",
       "      <th></th>\n",
       "      <th></th>\n",
       "      <th></th>\n",
       "    </tr>\n",
       "  </thead>\n",
       "  <tbody>\n",
       "    <tr>\n",
       "      <th>1.0</th>\n",
       "      <td>4</td>\n",
       "      <td>83</td>\n",
       "      <td>0</td>\n",
       "      <td>14</td>\n",
       "      <td>101</td>\n",
       "    </tr>\n",
       "    <tr>\n",
       "      <th>2.0</th>\n",
       "      <td>1</td>\n",
       "      <td>70</td>\n",
       "      <td>3</td>\n",
       "      <td>15</td>\n",
       "      <td>89</td>\n",
       "    </tr>\n",
       "    <tr>\n",
       "      <th>3.0</th>\n",
       "      <td>1</td>\n",
       "      <td>56</td>\n",
       "      <td>0</td>\n",
       "      <td>13</td>\n",
       "      <td>70</td>\n",
       "    </tr>\n",
       "    <tr>\n",
       "      <th>4.0</th>\n",
       "      <td>8</td>\n",
       "      <td>180</td>\n",
       "      <td>8</td>\n",
       "      <td>72</td>\n",
       "      <td>268</td>\n",
       "    </tr>\n",
       "    <tr>\n",
       "      <th>5.0</th>\n",
       "      <td>2</td>\n",
       "      <td>162</td>\n",
       "      <td>12</td>\n",
       "      <td>137</td>\n",
       "      <td>313</td>\n",
       "    </tr>\n",
       "    <tr>\n",
       "      <th>6.0</th>\n",
       "      <td>1</td>\n",
       "      <td>142</td>\n",
       "      <td>7</td>\n",
       "      <td>159</td>\n",
       "      <td>309</td>\n",
       "    </tr>\n",
       "    <tr>\n",
       "      <th>7.0</th>\n",
       "      <td>5</td>\n",
       "      <td>81</td>\n",
       "      <td>6</td>\n",
       "      <td>161</td>\n",
       "      <td>253</td>\n",
       "    </tr>\n",
       "    <tr>\n",
       "      <th>8.0</th>\n",
       "      <td>0</td>\n",
       "      <td>155</td>\n",
       "      <td>10</td>\n",
       "      <td>239</td>\n",
       "      <td>404</td>\n",
       "    </tr>\n",
       "    <tr>\n",
       "      <th>9.0</th>\n",
       "      <td>1</td>\n",
       "      <td>21</td>\n",
       "      <td>5</td>\n",
       "      <td>108</td>\n",
       "      <td>135</td>\n",
       "    </tr>\n",
       "    <tr>\n",
       "      <th>All</th>\n",
       "      <td>23</td>\n",
       "      <td>950</td>\n",
       "      <td>51</td>\n",
       "      <td>918</td>\n",
       "      <td>1942</td>\n",
       "    </tr>\n",
       "  </tbody>\n",
       "</table>\n",
       "</div>"
      ],
      "text/plain": [
       "RACE     1        2        All\n",
       "SMOKE  1.0  2.0 1.0  2.0      \n",
       "INCOME                        \n",
       "1.0      4   83   0   14   101\n",
       "2.0      1   70   3   15    89\n",
       "3.0      1   56   0   13    70\n",
       "4.0      8  180   8   72   268\n",
       "5.0      2  162  12  137   313\n",
       "6.0      1  142   7  159   309\n",
       "7.0      5   81   6  161   253\n",
       "8.0      0  155  10  239   404\n",
       "9.0      1   21   5  108   135\n",
       "All     23  950  51  918  1942"
      ]
     },
     "execution_count": 61,
     "metadata": {},
     "output_type": "execute_result"
    }
   ],
   "source": [
    "pd.crosstab(index=d2['INCOME'], columns=[d2['RACE'],\n",
    "                    d2['SMOKE']], margins=True) "
   ]
  },
  {
   "cell_type": "code",
   "execution_count": null,
   "id": "28eb3782",
   "metadata": {},
   "outputs": [],
   "source": []
  }
 ],
 "metadata": {
  "kernelspec": {
   "display_name": "Python 3 (ipykernel)",
   "language": "python",
   "name": "python3"
  },
  "language_info": {
   "codemirror_mode": {
    "name": "ipython",
    "version": 3
   },
   "file_extension": ".py",
   "mimetype": "text/x-python",
   "name": "python",
   "nbconvert_exporter": "python",
   "pygments_lexer": "ipython3",
   "version": "3.9.12"
  }
 },
 "nbformat": 4,
 "nbformat_minor": 5
}
